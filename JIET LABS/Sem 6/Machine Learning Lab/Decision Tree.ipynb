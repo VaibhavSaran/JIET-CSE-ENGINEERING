{
 "cells": [
  {
   "cell_type": "markdown",
   "id": "9dc0bc2f",
   "metadata": {},
   "source": [
    "Entropy: Randomness of data, it should be less<br>\n",
    "Information Gain: for less entropy Information gain is more <br>"
   ]
  },
  {
   "cell_type": "code",
   "execution_count": 1,
   "id": "196cbdf4",
   "metadata": {},
   "outputs": [],
   "source": [
    "import numpy as np\n",
    "import pandas as pd\n",
    "from sklearn.tree import DecisionTreeRegressor"
   ]
  },
  {
   "cell_type": "code",
   "execution_count": null,
   "id": "6cc1cc35",
   "metadata": {},
   "outputs": [],
   "source": []
  }
 ],
 "metadata": {
  "kernelspec": {
   "display_name": "Python 3",
   "language": "python",
   "name": "python3"
  },
  "language_info": {
   "codemirror_mode": {
    "name": "ipython",
    "version": 3
   },
   "file_extension": ".py",
   "mimetype": "text/x-python",
   "name": "python",
   "nbconvert_exporter": "python",
   "pygments_lexer": "ipython3",
   "version": "3.7.4"
  }
 },
 "nbformat": 4,
 "nbformat_minor": 5
}
