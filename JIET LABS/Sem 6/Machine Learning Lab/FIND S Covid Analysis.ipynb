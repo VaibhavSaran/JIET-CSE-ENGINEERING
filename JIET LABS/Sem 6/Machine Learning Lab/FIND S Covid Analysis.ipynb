{
 "cells": [
  {
   "cell_type": "code",
   "execution_count": 6,
   "metadata": {},
   "outputs": [],
   "source": [
    "#Importing requisite libraries\n",
    "import pandas as pd\n",
    "import numpy as np"
   ]
  },
  {
   "cell_type": "code",
   "execution_count": 7,
   "metadata": {},
   "outputs": [
    {
     "data": {
      "text/html": [
       "<div>\n",
       "<style scoped>\n",
       "    .dataframe tbody tr th:only-of-type {\n",
       "        vertical-align: middle;\n",
       "    }\n",
       "\n",
       "    .dataframe tbody tr th {\n",
       "        vertical-align: top;\n",
       "    }\n",
       "\n",
       "    .dataframe thead th {\n",
       "        text-align: right;\n",
       "    }\n",
       "</style>\n",
       "<table border=\"1\" class=\"dataframe\">\n",
       "  <thead>\n",
       "    <tr style=\"text-align: right;\">\n",
       "      <th></th>\n",
       "      <th>cough</th>\n",
       "      <th>fever</th>\n",
       "      <th>breathing</th>\n",
       "      <th>smell</th>\n",
       "      <th>taste</th>\n",
       "      <th>infected</th>\n",
       "    </tr>\n",
       "  </thead>\n",
       "  <tbody>\n",
       "    <tr>\n",
       "      <th>0</th>\n",
       "      <td>no</td>\n",
       "      <td>no</td>\n",
       "      <td>no</td>\n",
       "      <td>no</td>\n",
       "      <td>no</td>\n",
       "      <td>0</td>\n",
       "    </tr>\n",
       "    <tr>\n",
       "      <th>1</th>\n",
       "      <td>no</td>\n",
       "      <td>no</td>\n",
       "      <td>yes</td>\n",
       "      <td>yes</td>\n",
       "      <td>no</td>\n",
       "      <td>1</td>\n",
       "    </tr>\n",
       "    <tr>\n",
       "      <th>2</th>\n",
       "      <td>no</td>\n",
       "      <td>yes</td>\n",
       "      <td>yes</td>\n",
       "      <td>yes</td>\n",
       "      <td>no</td>\n",
       "      <td>1</td>\n",
       "    </tr>\n",
       "    <tr>\n",
       "      <th>3</th>\n",
       "      <td>yes</td>\n",
       "      <td>yes</td>\n",
       "      <td>no</td>\n",
       "      <td>no</td>\n",
       "      <td>no</td>\n",
       "      <td>0</td>\n",
       "    </tr>\n",
       "    <tr>\n",
       "      <th>4</th>\n",
       "      <td>yes</td>\n",
       "      <td>yes</td>\n",
       "      <td>yes</td>\n",
       "      <td>yes</td>\n",
       "      <td>yes</td>\n",
       "      <td>1</td>\n",
       "    </tr>\n",
       "  </tbody>\n",
       "</table>\n",
       "</div>"
      ],
      "text/plain": [
       "  cough fever breathing smell taste   infected\n",
       "0    no    no        no    no     no         0\n",
       "1   no    no        yes   yes     no         1\n",
       "2   no    yes       yes   yes     no         1\n",
       "3   yes   yes        no    no     no         0\n",
       "4  yes   yes        yes   yes    yes         1"
      ]
     },
     "execution_count": 7,
     "metadata": {},
     "output_type": "execute_result"
    }
   ],
   "source": [
    "#Reading the CSV file and seeing the top 5 values\n",
    "covid_df = pd.read_csv(\"Covid.csv\")\n",
    "covid_df.head()"
   ]
  },
  {
   "cell_type": "code",
   "execution_count": 27,
   "metadata": {},
   "outputs": [
    {
     "name": "stdout",
     "output_type": "stream",
     "text": [
      "[['no' 'no' 'no' 'no' 'no']\n",
      " ['no ' 'no ' 'yes' 'yes' 'no']\n",
      " ['no ' 'yes' 'yes' 'yes' 'no']\n",
      " ['yes' 'yes' 'no' 'no' 'no']\n",
      " ['yes ' 'yes ' 'yes' 'yes' 'yes']\n",
      " ['yes' 'no ' 'yes' 'yes' 'yes']\n",
      " ['no ' 'yes' 'no ' 'no ' 'yes']\n",
      " ['yes' 'yes' 'yes' 'yes' 'yes']\n",
      " ['no' 'no ' 'yes' 'yes' 'yes']\n",
      " ['yes' 'yes ' 'yes' 'yes ' 'no']\n",
      " ['yes ' 'no ' 'no' 'yes' 'no']\n",
      " ['no' 'yes' 'yes' 'no' 'no']\n",
      " ['yes' 'no' 'yes' 'yes' 'no']\n",
      " ['no' 'yes ' 'no' 'yes' 'yes']]\n",
      "[0 1 1 0 1 1 0 1 1 1 0 0 1 0]\n"
     ]
    }
   ],
   "source": [
    "#Segregating the attributes and target Varibales\n",
    "attributes = np.array(covid_df)[:,:-1]\n",
    "targets = np.array(covid_df)[:,-1]\n",
    "print(attributes)\n",
    "print(targets)"
   ]
  },
  {
   "cell_type": "code",
   "execution_count": 34,
   "metadata": {},
   "outputs": [
    {
     "name": "stdout",
     "output_type": "stream",
     "text": [
      "['?' '?' 'yes' '?' '?']\n"
     ]
    }
   ],
   "source": [
    "#Implementing Find S algorithm\n",
    "for i, val in enumerate(targets):\n",
    "    if val == 1:\n",
    "        specific_hypothesis = attributes[i].copy()\n",
    "        break\n",
    "for i,val in enumerate(attributes):\n",
    "    if targets[i] == 1:\n",
    "        for x in range(len(specific_hypothesis)):\n",
    "            if val[x] != specific_hypothesis[x]:\n",
    "                specific_hypothesis[x] = '?'\n",
    "            else:\n",
    "                pass\n",
    "print(specific_hypothesis)"
   ]
  }
 ],
 "metadata": {
  "kernelspec": {
   "display_name": "Python 3",
   "language": "python",
   "name": "python3"
  },
  "language_info": {
   "codemirror_mode": {
    "name": "ipython",
    "version": 3
   },
   "file_extension": ".py",
   "mimetype": "text/x-python",
   "name": "python",
   "nbconvert_exporter": "python",
   "pygments_lexer": "ipython3",
   "version": "3.7.4"
  }
 },
 "nbformat": 4,
 "nbformat_minor": 4
}
