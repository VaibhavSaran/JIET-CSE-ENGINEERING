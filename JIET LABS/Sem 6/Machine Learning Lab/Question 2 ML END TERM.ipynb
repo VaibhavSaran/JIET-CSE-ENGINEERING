{
 "cells": [
  {
   "cell_type": "markdown",
   "metadata": {},
   "source": [
    "# MACHINE LEARNING END TERM PRACTICAL\n",
    "# VAIBHAV SARAN 18EJICS169"
   ]
  },
  {
   "cell_type": "code",
   "execution_count": 3,
   "metadata": {
    "id": "vsD3sh1APFZl"
   },
   "outputs": [],
   "source": [
    "import pandas as pd\n",
    "import numpy as np"
   ]
  },
  {
   "cell_type": "code",
   "execution_count": 4,
   "metadata": {},
   "outputs": [
    {
     "name": "stdout",
     "output_type": "stream",
     "text": [
      "MACHINE LEARNING END TERM PRACTICAL VAIBHAV SARAN 18EJICS169\n"
     ]
    }
   ],
   "source": [
    "print(\"MACHINE LEARNING END TERM PRACTICAL VAIBHAV SARAN 18EJICS169\")"
   ]
  },
  {
   "cell_type": "code",
   "execution_count": 5,
   "metadata": {
    "id": "PjQBBRarQnM_"
   },
   "outputs": [],
   "source": [
    "d = {\n",
    "    \"Size\":[\"Big\",\"Small\",\"Small\",\"Big\",\"Small\"],\n",
    "     \"Color\":[\"Red\",\"Red\",\"Red\",'Blue',\"Blue\"],\n",
    "     \"Shape\":[\"Circle\",\"Triangle\",\"Circle\",\"Circle\",\"Circle\"],\n",
    "     \"Class/label\":[\"No\",\"No\",\"Yes\",\"No\",\"Yes\"]\n",
    "}"
   ]
  },
  {
   "cell_type": "code",
   "execution_count": 6,
   "metadata": {
    "id": "fJXJUnI7RXbt"
   },
   "outputs": [],
   "source": [
    "df = pd.DataFrame(d)"
   ]
  },
  {
   "cell_type": "code",
   "execution_count": 7,
   "metadata": {
    "colab": {
     "base_uri": "https://localhost:8080/",
     "height": 204
    },
    "id": "TMDAhVa4Rbqx",
    "outputId": "d7585118-432f-4d31-a326-46b6fd2cdec5"
   },
   "outputs": [
    {
     "data": {
      "text/html": [
       "<div>\n",
       "<style scoped>\n",
       "    .dataframe tbody tr th:only-of-type {\n",
       "        vertical-align: middle;\n",
       "    }\n",
       "\n",
       "    .dataframe tbody tr th {\n",
       "        vertical-align: top;\n",
       "    }\n",
       "\n",
       "    .dataframe thead th {\n",
       "        text-align: right;\n",
       "    }\n",
       "</style>\n",
       "<table border=\"1\" class=\"dataframe\">\n",
       "  <thead>\n",
       "    <tr style=\"text-align: right;\">\n",
       "      <th></th>\n",
       "      <th>Size</th>\n",
       "      <th>Color</th>\n",
       "      <th>Shape</th>\n",
       "      <th>Class/label</th>\n",
       "    </tr>\n",
       "  </thead>\n",
       "  <tbody>\n",
       "    <tr>\n",
       "      <th>0</th>\n",
       "      <td>Big</td>\n",
       "      <td>Red</td>\n",
       "      <td>Circle</td>\n",
       "      <td>No</td>\n",
       "    </tr>\n",
       "    <tr>\n",
       "      <th>1</th>\n",
       "      <td>Small</td>\n",
       "      <td>Red</td>\n",
       "      <td>Triangle</td>\n",
       "      <td>No</td>\n",
       "    </tr>\n",
       "    <tr>\n",
       "      <th>2</th>\n",
       "      <td>Small</td>\n",
       "      <td>Red</td>\n",
       "      <td>Circle</td>\n",
       "      <td>Yes</td>\n",
       "    </tr>\n",
       "    <tr>\n",
       "      <th>3</th>\n",
       "      <td>Big</td>\n",
       "      <td>Blue</td>\n",
       "      <td>Circle</td>\n",
       "      <td>No</td>\n",
       "    </tr>\n",
       "    <tr>\n",
       "      <th>4</th>\n",
       "      <td>Small</td>\n",
       "      <td>Blue</td>\n",
       "      <td>Circle</td>\n",
       "      <td>Yes</td>\n",
       "    </tr>\n",
       "  </tbody>\n",
       "</table>\n",
       "</div>"
      ],
      "text/plain": [
       "    Size Color     Shape Class/label\n",
       "0    Big   Red    Circle          No\n",
       "1  Small   Red  Triangle          No\n",
       "2  Small   Red    Circle         Yes\n",
       "3    Big  Blue    Circle          No\n",
       "4  Small  Blue    Circle         Yes"
      ]
     },
     "execution_count": 7,
     "metadata": {},
     "output_type": "execute_result"
    }
   ],
   "source": [
    "df"
   ]
  },
  {
   "cell_type": "code",
   "execution_count": 8,
   "metadata": {
    "colab": {
     "base_uri": "https://localhost:8080/"
    },
    "id": "L_1N-wCURelr",
    "outputId": "e7bc450a-3a9e-4361-9b94-255d7c9b393c"
   },
   "outputs": [
    {
     "name": "stdout",
     "output_type": "stream",
     "text": [
      "Initialization of specific_h and general_h\n",
      "specific_h:  ['Big' 'Red' 'Circle']\n",
      "general_h:  [['?', '?', '?'], ['?', '?', '?'], ['?', '?', '?']]\n",
      "concepts:  [['Big' 'Red' 'Circle']\n",
      " ['Small' 'Red' 'Triangle']\n",
      " ['Small' 'Red' 'Circle']\n",
      " ['Big' 'Blue' 'Circle']\n",
      " ['Small' 'Blue' 'Circle']]\n",
      "\n",
      "Steps of Candidate Elimination Algorithm:  1\n",
      "Specific_h:  1\n",
      "['Big' 'Red' 'Circle'] \n",
      "\n",
      "general_h : 1\n",
      "[['?', '?', '?'], ['?', '?', '?'], ['?', '?', '?']]\n",
      "\n",
      "Steps of Candidate Elimination Algorithm:  2\n",
      "Specific_h:  2\n",
      "['Big' 'Red' 'Circle'] \n",
      "\n",
      "general_h : 2\n",
      "[['Big', '?', '?'], ['?', '?', '?'], ['?', '?', 'Circle']]\n",
      "\n",
      "Steps of Candidate Elimination Algorithm:  3\n",
      "Specific_h:  3\n",
      "['Big' 'Red' 'Circle'] \n",
      "\n",
      "general_h : 3\n",
      "[['Big', '?', '?'], ['?', '?', '?'], ['?', '?', 'Circle']]\n",
      "\n",
      "Steps of Candidate Elimination Algorithm:  4\n",
      "Specific_h:  4\n",
      "['Big' 'Red' 'Circle'] \n",
      "\n",
      "general_h : 4\n",
      "[['?', '?', '?'], ['?', 'Red', '?'], ['?', '?', '?']]\n",
      "\n",
      "Steps of Candidate Elimination Algorithm:  5\n",
      "Specific_h:  5\n",
      "['Big' 'Red' 'Circle'] \n",
      "\n",
      "general_h : 5\n",
      "[['?', '?', '?'], ['?', 'Red', '?'], ['?', '?', '?']]\n",
      "\n",
      "Indices []\n",
      "\n",
      "Final Specific_h:\n",
      "['Big' 'Red' 'Circle']\n",
      "Final General_h:\n",
      "[['?', '?', '?'], ['?', 'Red', '?'], ['?', '?', '?']]\n"
     ]
    }
   ],
   "source": [
    "def Candid(concepts, target):\n",
    "\n",
    "    specific_h = concepts[0].copy()\n",
    "\n",
    "    print(\"Initialization of specific_h and general_h\")\n",
    "\n",
    "    print(\"specific_h: \",specific_h)\n",
    "\n",
    "    general_h = [[\"?\" for i in range(len(specific_h))] for i in range(len(specific_h))]\n",
    "\n",
    "    print(\"general_h: \",general_h)\n",
    "\n",
    "    print(\"concepts: \",concepts)\n",
    "\n",
    "    for i, h in enumerate(concepts):\n",
    "\n",
    "        if target[i] == \"YES\":\n",
    "\n",
    "            for x in range(len(specific_h)):\n",
    "\n",
    "                #print(\"h[x]\",h[x])\n",
    "\n",
    "                if h[x] != specific_h[x]:\n",
    "\n",
    "                    specific_h[x] = '?'\n",
    "\n",
    "                    general_h[x][x] = '?'\n",
    "\n",
    "        if target[i] == \"No\":\n",
    "\n",
    "            for x in range(len(specific_h)):\n",
    "\n",
    "                if h[x] != specific_h[x]:\n",
    "\n",
    "                    general_h[x][x] = specific_h[x]\n",
    "\n",
    "                else:\n",
    "\n",
    "                    general_h[x][x] = '?'\n",
    "\n",
    "        print(\"\\nSteps of Candidate Elimination Algorithm: \",i+1)\n",
    "\n",
    "        print(\"Specific_h: \",i+1)\n",
    "\n",
    "        print(specific_h,\"\\n\")\n",
    "\n",
    "        print(\"general_h :\", i+1)\n",
    "\n",
    "        print(general_h)\n",
    "\n",
    "    indices = [i for i, val in enumerate(general_h) if val == ['?', '?', '?', '?', '?', '?']]\n",
    "\n",
    "    print(\"\\nIndices\",indices)\n",
    "\n",
    "    for i in indices:\n",
    "\n",
    "        general_h.remove(['?', '?', '?', '?', '?', '?'])\n",
    "\n",
    "    return specific_h, general_h\n",
    "\n",
    "s_final,g_final = Candid(np.array(df)[:,:-1],np.array(df)[:,-1])\n",
    "\n",
    "print(\"\\nFinal Specific_h:\", s_final, sep=\"\\n\")\n",
    "\n",
    "print(\"Final General_h:\", g_final, sep=\"\\n\")"
   ]
  }
 ],
 "metadata": {
  "colab": {
   "name": "Q2_ML.ipynb",
   "provenance": []
  },
  "kernelspec": {
   "display_name": "Python 3",
   "language": "python",
   "name": "python3"
  },
  "language_info": {
   "codemirror_mode": {
    "name": "ipython",
    "version": 3
   },
   "file_extension": ".py",
   "mimetype": "text/x-python",
   "name": "python",
   "nbconvert_exporter": "python",
   "pygments_lexer": "ipython3",
   "version": "3.7.4"
  }
 },
 "nbformat": 4,
 "nbformat_minor": 1
}
