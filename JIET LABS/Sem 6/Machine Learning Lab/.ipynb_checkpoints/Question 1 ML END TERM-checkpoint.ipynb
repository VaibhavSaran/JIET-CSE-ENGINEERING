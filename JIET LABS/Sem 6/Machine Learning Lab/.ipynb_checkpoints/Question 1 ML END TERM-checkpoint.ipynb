{
 "cells": [
  {
   "cell_type": "markdown",
   "metadata": {},
   "source": [
    "# MACHINE LEARNING END TERM PRACTICAL\n",
    "# VAIBHAV SARAN 18EJICS169"
   ]
  },
  {
   "cell_type": "code",
   "execution_count": 1,
   "metadata": {},
   "outputs": [],
   "source": [
    "a=[43,21,25,42,57,59]\n",
    "b=[99,76,79,75,87,81]"
   ]
  },
  {
   "cell_type": "code",
   "execution_count": 3,
   "metadata": {},
   "outputs": [],
   "source": [
    "from prettytable import PrettyTable # used to display output in proper format"
   ]
  },
  {
   "cell_type": "code",
   "execution_count": 4,
   "metadata": {},
   "outputs": [],
   "source": [
    "y=PrettyTable()"
   ]
  },
  {
   "cell_type": "code",
   "execution_count": 5,
   "metadata": {},
   "outputs": [
    {
     "name": "stdout",
     "output_type": "stream",
     "text": [
      "82.83\n",
      "41.17\n"
     ]
    }
   ],
   "source": [
    "Sum_y=0\n",
    "Sum_x=0\n",
    "for i,j in zip(a,b):\n",
    "    Sum_y+=+j\n",
    "    Sum_x+=+i\n",
    "y_mean=round(Sum_y/len(b),2)\n",
    "x_mean=round(Sum_x/len(a),2)\n",
    "print(y_mean)\n",
    "print(x_mean)"
   ]
  },
  {
   "cell_type": "code",
   "execution_count": 6,
   "metadata": {},
   "outputs": [],
   "source": [
    "y.field_names=[\"Age(x)\", \"Gulcose level(y)\", \"XiYi\", \"Xi2\", \"y_mean*i\", 'x_mean*i']\n",
    "for i,j in zip(a,b):\n",
    "    y.add_row([(i),(j), (i*j), (i**2), (y_mean*i), (x_mean*i)])"
   ]
  },
  {
   "cell_type": "code",
   "execution_count": 7,
   "metadata": {},
   "outputs": [
    {
     "name": "stdout",
     "output_type": "stream",
     "text": [
      "+--------+------------------+------+------+--------------------+--------------------+\n",
      "| Age(x) | Gulcose level(y) | XiYi | Xi2  |      y_mean*i      |      x_mean*i      |\n",
      "+--------+------------------+------+------+--------------------+--------------------+\n",
      "|   43   |        99        | 4257 | 1849 |      3561.69       | 1770.3100000000002 |\n",
      "|   21   |        76        | 1596 | 441  |      1739.43       |       864.57       |\n",
      "|   25   |        79        | 1975 | 625  |      2070.75       |      1029.25       |\n",
      "|   42   |        75        | 3150 | 1764 |      3478.86       |      1729.14       |\n",
      "|   57   |        87        | 4959 | 3249 | 4721.3099999999995 |      2346.69       |\n",
      "|   59   |        81        | 4779 | 3481 |      4886.97       |      2429.03       |\n",
      "+--------+------------------+------+------+--------------------+--------------------+\n"
     ]
    }
   ],
   "source": [
    "print(y)"
   ]
  },
  {
   "cell_type": "code",
   "execution_count": 8,
   "metadata": {},
   "outputs": [
    {
     "name": "stdout",
     "output_type": "stream",
     "text": [
      "20716\n",
      "20459.01\n",
      "11409\n",
      "10168.990000000002\n"
     ]
    }
   ],
   "source": [
    "sum_xiyi=0\n",
    "sum_ymeanxi=0\n",
    "sum_xi2=0\n",
    "sum_xmeanxi=0\n",
    "for i,j in zip(a,b):\n",
    "    sum_xiyi=sum_xiyi+(i*j)\n",
    "    sum_ymeanxi=sum_ymeanxi+(y_mean*i)\n",
    "    sum_xi2=sum_xi2+(i**2)\n",
    "    sum_xmeanxi=sum_xmeanxi+(x_mean*i)\n",
    "print(sum_xiyi)\n",
    "print(sum_ymeanxi)\n",
    "print(sum_xi2)\n",
    "print(sum_xmeanxi)"
   ]
  },
  {
   "cell_type": "code",
   "execution_count": 9,
   "metadata": {},
   "outputs": [],
   "source": [
    "m = round((sum_xiyi-sum_ymeanxi)/(sum_xi2-sum_xmeanxi),2)"
   ]
  },
  {
   "cell_type": "code",
   "execution_count": 10,
   "metadata": {},
   "outputs": [
    {
     "name": "stdout",
     "output_type": "stream",
     "text": [
      "0.21\n"
     ]
    }
   ],
   "source": [
    "print(m)"
   ]
  },
  {
   "cell_type": "code",
   "execution_count": 11,
   "metadata": {},
   "outputs": [],
   "source": [
    "c = round(y_mean-(m*x_mean),2)"
   ]
  },
  {
   "cell_type": "code",
   "execution_count": 12,
   "metadata": {},
   "outputs": [
    {
     "name": "stdout",
     "output_type": "stream",
     "text": [
      "74.18\n"
     ]
    }
   ],
   "source": [
    "print(c)"
   ]
  },
  {
   "cell_type": "markdown",
   "metadata": {},
   "source": [
    "### According to question for x= 55 we need to find y"
   ]
  },
  {
   "cell_type": "markdown",
   "metadata": {},
   "source": [
    "### We find it using y = mx +c"
   ]
  },
  {
   "cell_type": "code",
   "execution_count": 13,
   "metadata": {},
   "outputs": [
    {
     "name": "stdout",
     "output_type": "stream",
     "text": [
      "85.73\n"
     ]
    }
   ],
   "source": [
    "y_new= m*55+c\n",
    "print(y_new)"
   ]
  }
 ],
 "metadata": {
  "kernelspec": {
   "display_name": "Python 3",
   "language": "python",
   "name": "python3"
  },
  "language_info": {
   "codemirror_mode": {
    "name": "ipython",
    "version": 3
   },
   "file_extension": ".py",
   "mimetype": "text/x-python",
   "name": "python",
   "nbconvert_exporter": "python",
   "pygments_lexer": "ipython3",
   "version": "3.7.4"
  }
 },
 "nbformat": 4,
 "nbformat_minor": 4
}
