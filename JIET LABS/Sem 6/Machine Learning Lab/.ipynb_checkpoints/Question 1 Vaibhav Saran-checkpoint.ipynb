{
 "cells": [
  {
   "cell_type": "markdown",
   "metadata": {},
   "source": [
    "# Vaibhav Saran 18EJICS169 ML Lab Practical 2"
   ]
  },
  {
   "cell_type": "code",
   "execution_count": 2,
   "metadata": {},
   "outputs": [],
   "source": [
    "import numpy as np\n",
    "import pandas as pd"
   ]
  },
  {
   "cell_type": "code",
   "execution_count": 3,
   "metadata": {},
   "outputs": [],
   "source": [
    "dict = {\n",
    "        'Citations':['some','many','some','many','many'],\n",
    "        'Size':['Small','Big','Big','Medium','Small'],\n",
    "        'Available in library':['No','No','Always','No','No'],\n",
    "        'Price':['affordable','expensive','expensive','expensive','affordable'],\n",
    "        'Editions':['many','one','few','many','many'],\n",
    "        'Buy':['NO','YES','NO','YES','YES']\n",
    "        }\n",
    "df = pd.DataFrame(dict)"
   ]
  },
  {
   "cell_type": "code",
   "execution_count": 4,
   "metadata": {},
   "outputs": [
    {
     "data": {
      "text/html": [
       "<div>\n",
       "<style scoped>\n",
       "    .dataframe tbody tr th:only-of-type {\n",
       "        vertical-align: middle;\n",
       "    }\n",
       "\n",
       "    .dataframe tbody tr th {\n",
       "        vertical-align: top;\n",
       "    }\n",
       "\n",
       "    .dataframe thead th {\n",
       "        text-align: right;\n",
       "    }\n",
       "</style>\n",
       "<table border=\"1\" class=\"dataframe\">\n",
       "  <thead>\n",
       "    <tr style=\"text-align: right;\">\n",
       "      <th></th>\n",
       "      <th>Citations</th>\n",
       "      <th>Size</th>\n",
       "      <th>Available in library</th>\n",
       "      <th>Price</th>\n",
       "      <th>Editions</th>\n",
       "      <th>Buy</th>\n",
       "    </tr>\n",
       "  </thead>\n",
       "  <tbody>\n",
       "    <tr>\n",
       "      <th>0</th>\n",
       "      <td>some</td>\n",
       "      <td>Small</td>\n",
       "      <td>No</td>\n",
       "      <td>affordable</td>\n",
       "      <td>many</td>\n",
       "      <td>NO</td>\n",
       "    </tr>\n",
       "    <tr>\n",
       "      <th>1</th>\n",
       "      <td>many</td>\n",
       "      <td>Big</td>\n",
       "      <td>No</td>\n",
       "      <td>expensive</td>\n",
       "      <td>one</td>\n",
       "      <td>YES</td>\n",
       "    </tr>\n",
       "    <tr>\n",
       "      <th>2</th>\n",
       "      <td>some</td>\n",
       "      <td>Big</td>\n",
       "      <td>Always</td>\n",
       "      <td>expensive</td>\n",
       "      <td>few</td>\n",
       "      <td>NO</td>\n",
       "    </tr>\n",
       "    <tr>\n",
       "      <th>3</th>\n",
       "      <td>many</td>\n",
       "      <td>Medium</td>\n",
       "      <td>No</td>\n",
       "      <td>expensive</td>\n",
       "      <td>many</td>\n",
       "      <td>YES</td>\n",
       "    </tr>\n",
       "    <tr>\n",
       "      <th>4</th>\n",
       "      <td>many</td>\n",
       "      <td>Small</td>\n",
       "      <td>No</td>\n",
       "      <td>affordable</td>\n",
       "      <td>many</td>\n",
       "      <td>YES</td>\n",
       "    </tr>\n",
       "  </tbody>\n",
       "</table>\n",
       "</div>"
      ],
      "text/plain": [
       "  Citations    Size Available in library       Price Editions  Buy\n",
       "0      some   Small                   No  affordable     many   NO\n",
       "1      many     Big                   No   expensive      one  YES\n",
       "2      some     Big               Always   expensive      few   NO\n",
       "3      many  Medium                   No   expensive     many  YES\n",
       "4      many   Small                   No  affordable     many  YES"
      ]
     },
     "execution_count": 4,
     "metadata": {},
     "output_type": "execute_result"
    }
   ],
   "source": [
    "df"
   ]
  },
  {
   "cell_type": "markdown",
   "metadata": {},
   "source": [
    "#### 1. How many concepts are possible for this instances space?"
   ]
  },
  {
   "cell_type": "code",
   "execution_count": 5,
   "metadata": {},
   "outputs": [
    {
     "data": {
      "text/html": [
       "<div>\n",
       "<style scoped>\n",
       "    .dataframe tbody tr th:only-of-type {\n",
       "        vertical-align: middle;\n",
       "    }\n",
       "\n",
       "    .dataframe tbody tr th {\n",
       "        vertical-align: top;\n",
       "    }\n",
       "\n",
       "    .dataframe thead th {\n",
       "        text-align: right;\n",
       "    }\n",
       "</style>\n",
       "<table border=\"1\" class=\"dataframe\">\n",
       "  <thead>\n",
       "    <tr style=\"text-align: right;\">\n",
       "      <th></th>\n",
       "      <th>Attribute</th>\n",
       "      <th>Values</th>\n",
       "      <th>Count</th>\n",
       "    </tr>\n",
       "  </thead>\n",
       "  <tbody>\n",
       "    <tr>\n",
       "      <th>0</th>\n",
       "      <td>Citations</td>\n",
       "      <td>[some, many, some, many, many]</td>\n",
       "      <td>5</td>\n",
       "    </tr>\n",
       "    <tr>\n",
       "      <th>1</th>\n",
       "      <td>Size</td>\n",
       "      <td>[Small, Big, Big, Medium, Small]</td>\n",
       "      <td>5</td>\n",
       "    </tr>\n",
       "    <tr>\n",
       "      <th>2</th>\n",
       "      <td>Available in library</td>\n",
       "      <td>[No, No, Always, No, No]</td>\n",
       "      <td>5</td>\n",
       "    </tr>\n",
       "    <tr>\n",
       "      <th>3</th>\n",
       "      <td>Price</td>\n",
       "      <td>[affordable, expensive, expensive, expensive, ...</td>\n",
       "      <td>5</td>\n",
       "    </tr>\n",
       "    <tr>\n",
       "      <th>4</th>\n",
       "      <td>Editions</td>\n",
       "      <td>[many, one, few, many, many]</td>\n",
       "      <td>5</td>\n",
       "    </tr>\n",
       "    <tr>\n",
       "      <th>5</th>\n",
       "      <td>Buy</td>\n",
       "      <td>[NO, YES, NO, YES, YES]</td>\n",
       "      <td>5</td>\n",
       "    </tr>\n",
       "  </tbody>\n",
       "</table>\n",
       "</div>"
      ],
      "text/plain": [
       "              Attribute                                             Values  \\\n",
       "0             Citations                     [some, many, some, many, many]   \n",
       "1                  Size                   [Small, Big, Big, Medium, Small]   \n",
       "2  Available in library                           [No, No, Always, No, No]   \n",
       "3                 Price  [affordable, expensive, expensive, expensive, ...   \n",
       "4              Editions                       [many, one, few, many, many]   \n",
       "5                   Buy                            [NO, YES, NO, YES, YES]   \n",
       "\n",
       "   Count  \n",
       "0      5  \n",
       "1      5  \n",
       "2      5  \n",
       "3      5  \n",
       "4      5  \n",
       "5      5  "
      ]
     },
     "execution_count": 5,
     "metadata": {},
     "output_type": "execute_result"
    }
   ],
   "source": [
    "data = {\"Attribute\":[],\"Values\":[],\"Count\":[]}\n",
    "for i in df.columns:\n",
    "    data[\"Attribute\"].append(i)\n",
    "    data[\"Values\"].append(df[i].values)\n",
    "    data[\"Count\"].append(len(df[i].values))\n",
    "pd.DataFrame(data)"
   ]
  },
  {
   "cell_type": "markdown",
   "metadata": {},
   "source": [
    "#### 2. How many hypotheses can be expressed by the hypothesis language?"
   ]
  },
  {
   "cell_type": "code",
   "execution_count": 7,
   "metadata": {},
   "outputs": [
    {
     "data": {
      "text/plain": [
       "5"
      ]
     },
     "execution_count": 7,
     "metadata": {},
     "output_type": "execute_result"
    }
   ],
   "source": [
    "len(df)"
   ]
  },
  {
   "cell_type": "markdown",
   "metadata": {},
   "source": [
    "#### 3: Implement and Demonstrate Find -S Algorithm for finding the most specific hypothesis based on a given training data samples. Read the training data from .CSV file."
   ]
  },
  {
   "cell_type": "code",
   "execution_count": 9,
   "metadata": {},
   "outputs": [
    {
     "name": "stdout",
     "output_type": "stream",
     "text": [
      "\n",
      " The initial value of hypothesis: \n",
      "['0', '0', '0', '0', '0']\n",
      "\n",
      " Find S: Finding a Maximally Specific Hypothesis\n",
      "\n",
      " For Training Example No :0 the hypothesis is  ['some', 'Small', 'No', 'affordable', 'many']\n",
      " For Training Example No :1 the hypothesis is  ['some', 'Small', 'No', 'affordable', 'many']\n",
      " For Training Example No :2 the hypothesis is  ['some', 'Small', 'No', 'affordable', 'many']\n",
      " For Training Example No :3 the hypothesis is  ['some', 'Small', 'No', 'affordable', 'many']\n",
      " For Training Example No :4 the hypothesis is  ['some', 'Small', 'No', 'affordable', 'many']\n",
      "\n",
      " The Maximally Specific Hypothesis for a given Training Examples :\n",
      "\n",
      "['some', 'Small', 'No', 'affordable', 'many']\n"
     ]
    }
   ],
   "source": [
    "a = np.array(df)\n",
    "print(\"\\n The initial value of hypothesis: \")\n",
    "hypothesis = ['0'] * len(df)\n",
    "print(hypothesis)\n",
    "for j in range(0,len(df)):\n",
    "        hypothesis[j] = a[0][j]\n",
    "\n",
    "\n",
    "print(\"\\n Find S: Finding a Maximally Specific Hypothesis\\n\")\n",
    "\n",
    "for i in range(0,len(a)):\n",
    "    if a[i][len(df)]=='Yes':\n",
    "            for j in range(0,len(df)):\n",
    "                if a[i][j]!=hypothesis[j]:\n",
    "                    hypothesis[j]='?'\n",
    "                else :\n",
    "                    hypothesis[j]= a[i][j] \n",
    "    print(\" For Training Example No :{0} the hypothesis is \".format(i),hypothesis)\n",
    "                \n",
    "print(\"\\n The Maximally Specific Hypothesis for a given Training Examples :\\n\")\n",
    "print(hypothesis)"
   ]
  }
 ],
 "metadata": {
  "interpreter": {
   "hash": "31f2aee4e71d21fbe5cf8b01ff0e069b9275f58929596ceb00d14d90e3e16cd6"
  },
  "kernelspec": {
   "display_name": "Python 3",
   "language": "python",
   "name": "python3"
  },
  "language_info": {
   "codemirror_mode": {
    "name": "ipython",
    "version": 3
   },
   "file_extension": ".py",
   "mimetype": "text/x-python",
   "name": "python",
   "nbconvert_exporter": "python",
   "pygments_lexer": "ipython3",
   "version": "3.7.4"
  }
 },
 "nbformat": 4,
 "nbformat_minor": 2
}
