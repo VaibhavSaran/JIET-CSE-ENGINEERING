{
 "cells": [
  {
   "cell_type": "code",
   "execution_count": 3,
   "metadata": {},
   "outputs": [
    {
     "data": {
      "text/plain": [
       "142913828922"
      ]
     },
     "execution_count": 3,
     "metadata": {},
     "output_type": "execute_result"
    }
   ],
   "source": [
    "import numpy as np\n",
    "def sum_primes(n): \n",
    "    ps = np.ones((n >> 1,), dtype=bool) \n",
    "    for i in range(1, int(n**.5 + 1) >> 1): \n",
    "        j = 2 * i + 1 \n",
    "        if ps[i]: ps[(j * j) >> 1::j] = False \n",
    "    return np.sum(np.nonzero(ps)[0] * 2 + 1, dtype = 'i8') + 1 \n",
    "sum_primes(2000000)"
   ]
  },
  {
   "cell_type": "code",
   "execution_count": null,
   "metadata": {},
   "outputs": [],
   "source": []
  }
 ],
 "metadata": {
  "kernelspec": {
   "display_name": "Python 3",
   "language": "python",
   "name": "python3"
  },
  "language_info": {
   "codemirror_mode": {
    "name": "ipython",
    "version": 3
   },
   "file_extension": ".py",
   "mimetype": "text/x-python",
   "name": "python",
   "nbconvert_exporter": "python",
   "pygments_lexer": "ipython3",
   "version": "3.7.6"
  }
 },
 "nbformat": 4,
 "nbformat_minor": 4
}
